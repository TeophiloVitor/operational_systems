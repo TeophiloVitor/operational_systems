{
  "nbformat": 4,
  "nbformat_minor": 0,
  "metadata": {
    "colab": {
      "provenance": []
    },
    "kernelspec": {
      "name": "python3",
      "display_name": "Python 3"
    },
    "language_info": {
      "name": "python"
    }
  },
  "cells": [
    {
      "cell_type": "markdown",
      "source": [
        "# Simulação de memoria cache de mapeamento direto, completamente associativo, duas vias e quatro vias, por threads.\n"
      ],
      "metadata": {
        "id": "2CBjOZXDClmc"
      }
    },
    {
      "cell_type": "markdown",
      "source": [
        "## Bibliotecas utilizadas\n"
      ],
      "metadata": {
        "id": "6uIHeE3dE8gd"
      }
    },
    {
      "cell_type": "code",
      "execution_count": null,
      "metadata": {
        "id": "cP3TTob8rpc9"
      },
      "outputs": [],
      "source": [
        "import pandas as pd\n",
        "from random import randint\n",
        "import numpy as np"
      ]
    },
    {
      "cell_type": "markdown",
      "source": [
        "## Arquivo com as requisições feitas pela cpu\n"
      ],
      "metadata": {
        "id": "VDqsLRTlpyvD"
      }
    },
    {
      "cell_type": "code",
      "source": [
        "#Mapeamento direto\n",
        "cpu_requests = pd.read_csv(\"./enderecos.dat\") # Lendo os dados de endereço de memoria\n",
        "\n",
        "# Setando dados iniciais\n",
        "erros = 0\n",
        "acertos = 0\n",
        "enderecos = len(cpu_requests['0'])\n",
        "memoria = []\n",
        "\n",
        "#\n",
        "for i in range(enderecos):\n",
        "  lista = [False, None]\n",
        "  memoria.append(lista)\n",
        "\n",
        "arq = cpu_requests['0']\n",
        "addresses = []\n",
        "for i in arq:\n",
        "  addresses.append(int(i)) \n",
        "\n",
        "for line in arq:\n",
        "  num = np.binary_repr(int(line), width=16)\n",
        "  tag_bin = num[0:6]\n",
        "  endereco_bin = num[6:14]\n",
        "  word_bin = num[14:16]\n",
        "  endereco = int(endereco_bin, 2)\n",
        "  tag = int(tag_bin, 2)\n",
        "  if memoria[endereco][0] == False:\n",
        "    memoria[endereco][0] = True\n",
        "    memoria[endereco][1] = tag\n",
        "    erros += 1\n",
        "  elif memoria[endereco][1] != tag:\n",
        "    memoria[endereco][1] = tag\n",
        "    erros += 1\n",
        "  else:\n",
        "    acertos += 1"
      ],
      "metadata": {
        "id": "uIUDnGkwDIE-"
      },
      "execution_count": null,
      "outputs": []
    },
    {
      "cell_type": "code",
      "source": [
        "acuracy = acertos/enderecos\n",
        "acuracy"
      ],
      "metadata": {
        "colab": {
          "base_uri": "https://localhost:8080/"
        },
        "id": "o5k9aLtsMCA-",
        "outputId": "9a9d2a17-1d30-4311-803f-a24126eacf29"
      },
      "execution_count": null,
      "outputs": [
        {
          "output_type": "execute_result",
          "data": {
            "text/plain": [
              "0.8563125053423369"
            ]
          },
          "metadata": {},
          "execution_count": 3
        }
      ]
    },
    {
      "cell_type": "markdown",
      "source": [
        "## Classes utilizadas \n",
        "- LinhaCacheMapeamentoDireto, nesta classe é onde é mapeado o número de endereços que podem ser armazenados por linha,  o método push insere um elemento em um posição que estava fazia nesta linha, em caso da linha esta cheia ele remove o primeiro que foi inserido. Os métodos sroll_to_right desloca os elementos da linha para a direita removendo assim o primeiro que foi inserido (FIFO).\n",
        "- CacheMapeamentoDireto, é onde fica armazenada todas as linhas da mémoria cache. O metodo set_value_in_line insere um endereço na linha da cache.\n",
        "\n",
        "- SimulacaoMapeamentoDireto, é onde é contabilizado o número de acertos de cache e de falhas de cache, um acerto é quando o endereço solicitado pelo cpu está presente na linha da cache, o caso de falha de cache é quanto o endereço não esta presente na linha da cache."
      ],
      "metadata": {
        "id": "CEMRyWNip8pA"
      }
    },
    {
      "cell_type": "code",
      "source": [
        "class LinhaCacheMapeamentoDireto:\n",
        "  def __init__(self,):\n",
        "    self.flag = False\n",
        "    self.columns = [None,None,None,None]\n",
        "  \n",
        "  def push(self,address):\n",
        "    self.flag = True\n",
        "\n",
        "    for index,value in enumerate(self.columns):\n",
        "      if value == None:\n",
        "        self.columns[index]=address \n",
        "\n",
        "      elif index == len(self.columns)-1:\n",
        "        self.scroll_to_right(address)\n",
        "\n",
        "  def scroll_to_right(self,address):\n",
        "    for index in range(len(self.columns)-1):\n",
        "      self.columns[index] = self.columns[index+1]\n",
        "    self.columns[3] = address\n",
        "\n",
        "  def __repr__(self):\n",
        "    columns = [f\"{index} : {value}\" for index,value in enumerate(self.columns)]\n",
        "\n",
        "    return f\"{columns}\"   \n",
        "  \n",
        "\n",
        "class CacheMapeamentoDireto:\n",
        "  def __init__(self, number_lines=0):\n",
        "    self.number_lines = number_lines\n",
        "    self.memorie = [ LinhaCacheMapeamentoDireto() for index in range(self.number_lines)]\n",
        "  \n",
        "  def set_value_in_line(self,line,address):\n",
        "      self.memorie[line].push(address)\n",
        "\n",
        "  def __str__(self):\n",
        "    rep = f\"cache {self.number_lines} linhas\\n\"\n",
        "    for index,line in enumerate(self.memorie):\n",
        "      rep =rep+f\" linha {index} e {line}\\n\"\n",
        "\n",
        "    return rep\n"
      ],
      "metadata": {
        "id": "XOpJT6isEs3m"
      },
      "execution_count": null,
      "outputs": []
    },
    {
      "cell_type": "code",
      "source": [
        "cache = CacheMapeamentoDireto(number_lines = 1000)\n",
        "\n",
        "def SimulacaoMapeamentoDireto(cache=cache, cpu_requests=cpu_requests):\n",
        "  hit=0\n",
        "  fault=0\n",
        "  flag = True\n",
        "  for request in cpu_requests[\"0\"]:\n",
        "    line = request%cache.number_lines\n",
        "    if not cache.memorie[line].flag:\n",
        "      fault=fault+1\n",
        "    \n",
        "    else:\n",
        "      if request in cache.memorie[line].columns:\n",
        "        hit = hit+1\n",
        "        flag=False\n",
        "      else:\n",
        "        fault= fault+1\n",
        "        flag = True\n",
        "\n",
        "    if flag:\n",
        "      cache.set_value_in_line(line,request)\n",
        "\n",
        "  return hit\n",
        "  #print(f\"End simulate direct mapping number of successes {hit/enderecos} and number of fails {fault/enderecos}, number of requests {hit+fault}\")"
      ],
      "metadata": {
        "id": "Ol39DlAxQriT"
      },
      "execution_count": null,
      "outputs": []
    },
    {
      "cell_type": "markdown",
      "source": [
        "Resultado simulação em Mapeamento direto:"
      ],
      "metadata": {
        "id": "KnJ2PG4MTO84"
      }
    },
    {
      "cell_type": "code",
      "source": [
        "SimulacaoMapeamentoDireto()"
      ],
      "metadata": {
        "colab": {
          "base_uri": "https://localhost:8080/"
        },
        "id": "_EqKswbbXEOG",
        "outputId": "58cd9b0d-5c24-4a10-8794-95bd115c18d6"
      },
      "execution_count": null,
      "outputs": [
        {
          "output_type": "execute_result",
          "data": {
            "text/plain": [
              "4976"
            ]
          },
          "metadata": {},
          "execution_count": 6
        }
      ]
    },
    {
      "cell_type": "markdown",
      "source": [
        "## Cache de Mapeamento Associativo em conjunto de duas vias e quatro vias"
      ],
      "metadata": {
        "id": "I_O0BvWyniMi"
      }
    },
    {
      "cell_type": "code",
      "source": [
        "class LinhaCacheMapeamentoAssociativo2:\n",
        "  def __init__(self,):\n",
        "    self.way = [{\"flag\":False,\"values\":[None,None,None,None]},{\"flag\":False,\"values\":[None,None,None,None]}]\n",
        "  \n",
        "  def push(self,address):\n",
        "    for key,value in enumerate(self.way):\n",
        "      line = [block for block in value[\"values\"]]\n",
        "      \n",
        "      if None in line:\n",
        "        empty_index = line.index(None)\n",
        "        self.way[key][\"values\"][empty_index] = address\n",
        "        self.way[key][\"flag\"] = True\n",
        "        \n",
        "      elif key == 1: \n",
        "        rand_way = randint(0,1)\n",
        "        rand_index = randint(0,3)\n",
        "        self.way[rand_way][\"values\"][rand_index] = address\n",
        "        self.way[rand_way][\"flag\"] = True\n",
        "\n",
        "  def __repr__(self):\n",
        "    columns = [f\"way {index} : {value}\" for index,value in enumerate(self.way)]\n",
        "\n",
        "    return f\"{columns}\"   \n",
        "  \n",
        "\n",
        "class CacheMapeamentoAssociativo2:\n",
        "  def __init__(self, number_lines=0):\n",
        "    self.number_lines = number_lines\n",
        "    self.memorie = [ LinhaCacheMapeamentoAssociativo2() for index in range(self.number_lines)]\n",
        "  \n",
        "  def set_value_in_line(self,line,address):\n",
        "      self.memorie[line].push(address)\n",
        "\n",
        "  def __str__(self):\n",
        "    rep = f\"cache {self.number_lines} linhas\\n\"\n",
        "    for index,line in enumerate(self.memorie):\n",
        "      rep =rep+f\" linha {index} e {line}\\n\"\n",
        "\n",
        "    return rep\n",
        "class LinhaCacheMapeamentoAssociativo4:\n",
        "  def __init__(self,):\n",
        "    self.way = [{\"flag\":False,\"values\":[None,None,None,None]}, {\"flag\":False,\"values\":[None,None,None,None]}\n",
        "                , {\"flag\":False,\"values\":[None,None,None,None]}, {\"flag\":False,\"values\":[None,None,None,None]}]\n",
        "  \n",
        "  def push(self,address):\n",
        "    for key,value in enumerate(self.way):\n",
        "      line = [block for block in value[\"values\"]]\n",
        "      \n",
        "      if None in line:\n",
        "        empty_index = line.index(None)\n",
        "        self.way[key][\"values\"][empty_index] = address\n",
        "        self.way[key][\"flag\"] = True\n",
        "        \n",
        "      elif key == 1: \n",
        "        rand_way = randint(0,1)\n",
        "        rand_index = randint(0,3)\n",
        "        self.way[rand_way][\"values\"][rand_index] = address\n",
        "        self.way[rand_way][\"flag\"] = True\n",
        "\n",
        "  def __repr__(self):\n",
        "    columns = [f\"way {index} : {value}\" for index,value in enumerate(self.way)]\n",
        "\n",
        "    return f\"{columns}\"   \n",
        "  \n",
        "\n",
        "class CacheMapeamentoAssociativo4:\n",
        "  def __init__(self, number_lines=0):\n",
        "    self.number_lines = number_lines\n",
        "    self.memorie = [ LinhaCacheMapeamentoAssociativo4() for index in range(self.number_lines)]\n",
        "  \n",
        "  def set_value_in_line(self,line,address):\n",
        "      self.memorie[line].push(address)\n",
        "\n",
        "  def __str__(self):\n",
        "    rep = f\"cache {self.number_lines} linhas\\n\"\n",
        "    for index,line in enumerate(self.memorie):\n",
        "      rep =rep+f\" linha {index} e {line}\\n\"\n",
        "\n",
        "    return rep"
      ],
      "metadata": {
        "id": "ZehyJTDn-lyc"
      },
      "execution_count": null,
      "outputs": []
    },
    {
      "cell_type": "code",
      "source": [
        "cache2_128 = CacheMapeamentoAssociativo2(number_lines = 128)\n",
        "cache2_512 = CacheMapeamentoAssociativo2(number_lines = 512)\n",
        "cache4_256 = CacheMapeamentoAssociativo4(number_lines = 256)\n",
        "cache4_512 = CacheMapeamentoAssociativo4(number_lines = 512)"
      ],
      "metadata": {
        "id": "D8UO1bVD3bln"
      },
      "execution_count": null,
      "outputs": []
    },
    {
      "cell_type": "code",
      "source": [
        "def SimulacaoMapeamentoAssociativo2_128(cache=cache2_128, cpu_requests=cpu_requests):\n",
        "  hit=0\n",
        "  fault=0\n",
        "  flag = True\n",
        "  for request in cpu_requests[\"0\"]:\n",
        "    line = request%cache.number_lines\n",
        "\n",
        "    flag_ways = set([block[\"flag\"] for block  in cache.memorie[line].way])\n",
        "    if False in flag_ways:\n",
        "      fault = fault + 1\n",
        "\n",
        "    else:\n",
        "      if request in cache.memorie[line].way[0][\"values\"] or request in cache.memorie[line].way[1][\"values\"]:\n",
        "        hit=hit+1\n",
        "      else:\n",
        "        fault = fault + 1\n",
        "   \n",
        "    if flag:\n",
        "      cache.set_value_in_line(line,request)\n",
        "  return hit\n",
        "def SimulacaoMapeamentoAssociativo2_512(cache=cache2_512, cpu_requests=cpu_requests):\n",
        "  hit=0\n",
        "  fault=0\n",
        "  flag = True\n",
        "  for request in cpu_requests[\"0\"]:\n",
        "    line = request%cache.number_lines\n",
        "\n",
        "    flag_ways = set([block[\"flag\"] for block  in cache.memorie[line].way])\n",
        "    if False in flag_ways:\n",
        "      fault = fault + 1\n",
        "\n",
        "    else:\n",
        "      if request in cache.memorie[line].way[0][\"values\"] or request in cache.memorie[line].way[1][\"values\"]:\n",
        "        hit=hit+1\n",
        "      else:\n",
        "        fault = fault + 1\n",
        "   \n",
        "    if flag:\n",
        "      cache.set_value_in_line(line,request)\n",
        "  return hit\n",
        "  #print(f\"End simulate associative mapping number of successes {hit} and number of fails {fault}, number of requests {hit+fault}\")\n",
        "def SimulacaoMapeamentoAssociativo4_256(cache=cache4_256, cpu_requests=cpu_requests):\n",
        "    hit=0\n",
        "    fault=0\n",
        "    flag = True\n",
        "    for request in cpu_requests[\"0\"]:\n",
        "      line = request%cache.number_lines\n",
        "\n",
        "      flag_ways = set([block[\"flag\"] for block  in cache.memorie[line].way])\n",
        "      if False in flag_ways:\n",
        "        fault = fault + 1\n",
        "\n",
        "      else:\n",
        "        if request in cache.memorie[line].way[0][\"values\"] or request in cache.memorie[line].way[1][\"values\"]:\n",
        "          hit=hit+1\n",
        "        else:\n",
        "          fault = fault + 1\n",
        "   \n",
        "      if flag:\n",
        "        cache.set_value_in_line(line,request)\n",
        "    return hit\n",
        "  #print(f\"End simulate associative mapping number of successes {hit} and number of fails {fault}, number of requests {hit+fault}\")\n",
        "def SimulacaoMapeamentoAssociativo4_512(cache=cache4_512, cpu_requests=cpu_requests):\n",
        "    hit=0\n",
        "    fault=0\n",
        "    flag = True\n",
        "    for request in cpu_requests[\"0\"]:\n",
        "      line = request%cache.number_lines\n",
        "\n",
        "      flag_ways = set([block[\"flag\"] for block  in cache.memorie[line].way])\n",
        "      if False in flag_ways:\n",
        "        fault = fault + 1\n",
        "\n",
        "      else:\n",
        "        if request in cache.memorie[line].way[0][\"values\"] or request in cache.memorie[line].way[1][\"values\"]:\n",
        "          hit=hit+1\n",
        "        else:\n",
        "          fault = fault + 1\n",
        "   \n",
        "      if flag:\n",
        "        cache.set_value_in_line(line,request)\n",
        "    return hit"
      ],
      "metadata": {
        "id": "EcHQrLT6_7n0"
      },
      "execution_count": null,
      "outputs": []
    },
    {
      "cell_type": "markdown",
      "source": [
        "Resultado simulação em Mapeamento associativo:"
      ],
      "metadata": {
        "id": "QQzMfhwuL109"
      }
    },
    {
      "cell_type": "code",
      "source": [
        "print(SimulacaoMapeamentoAssociativo2_128())\n",
        "print(SimulacaoMapeamentoAssociativo2_512())\n",
        "print(SimulacaoMapeamentoAssociativo4_256())\n",
        "print(SimulacaoMapeamentoAssociativo4_512())"
      ],
      "metadata": {
        "colab": {
          "base_uri": "https://localhost:8080/"
        },
        "id": "Vrv3PocA3ZjG",
        "outputId": "dac88a7a-d8c2-4de9-bd4c-e0dafedc3ca9"
      },
      "execution_count": null,
      "outputs": [
        {
          "output_type": "stream",
          "name": "stdout",
          "text": [
            "4069\n",
            "4853\n",
            "4717\n",
            "4875\n"
          ]
        }
      ]
    },
    {
      "cell_type": "code",
      "source": [
        "from collections import deque\n",
        "def SimulacaoMapeamentoCompletamenteAssociativo():\n",
        "    tags = [-1] * 4\n",
        "    valid = [0] * 4\n",
        "    LRU = deque()\n",
        "    acertos = 0\n",
        "    erros = 0\n",
        "    total_instructions = 0\n",
        "\n",
        "    for i in range(0, 2):\n",
        "      for addr in addresses:\n",
        "            offset = addr % 4\n",
        "            tag = addr // (4)\n",
        "            if tag in tags:\n",
        "                location = tags.index(tag)\n",
        "                if location in LRU:\n",
        "                    LRU.remove(location)\n",
        "                LRU.append(location)\n",
        "                acertos += 1\n",
        "            elif 0 in valid:\n",
        "                location = valid.index(0)\n",
        "                tags[location] = tag\n",
        "                valid[location] = 1\n",
        "                if i > 0:\n",
        "                    erros += 1\n",
        "                if location in LRU:\n",
        "                    LRU.remove(location)\n",
        "                LRU.append(location)\n",
        "            else:\n",
        "                leastUsedLoc = LRU.popleft()\n",
        "                tags[leastUsedLoc] = tag\n",
        "                if i > 0:\n",
        "                    erros += 1\n",
        "                if leastUsedLoc in LRU:\n",
        "                    LRU.remove(leastUsedLoc)\n",
        "                LRU.append(leastUsedLoc)\n",
        "            if i > 0:\n",
        "                total_instructions += 1\n",
        "    return acertos*1/2"
      ],
      "metadata": {
        "id": "Jz_aO-uflN49"
      },
      "execution_count": null,
      "outputs": []
    },
    {
      "cell_type": "markdown",
      "source": [
        "Resultado simulação em Mapeamento completamente associativo:"
      ],
      "metadata": {
        "id": "mbmMJRsvMSks"
      }
    },
    {
      "cell_type": "code",
      "source": [
        "SimulacaoMapeamentoCompletamenteAssociativo()"
      ],
      "metadata": {
        "colab": {
          "base_uri": "https://localhost:8080/"
        },
        "id": "4t3RibbDlPcm",
        "outputId": "9a80de9d-9bd0-45ae-ebe4-69f1e5eef73f"
      },
      "execution_count": null,
      "outputs": [
        {
          "output_type": "execute_result",
          "data": {
            "text/plain": [
              "8774.0"
            ]
          },
          "metadata": {},
          "execution_count": 12
        }
      ]
    },
    {
      "cell_type": "code",
      "source": [
        "import threading\n",
        "import random\n",
        "import sys"
      ],
      "metadata": {
        "id": "Y5EtXlLzIPGM"
      },
      "execution_count": null,
      "outputs": []
    },
    {
      "cell_type": "code",
      "source": [
        "global x, x1, x2, x3, x4, x5\n",
        "\n",
        "def task1():\n",
        "    print(\"\\nIniciando Thread {}\".format(threading.current_thread().name))\n",
        "    a = SimulacaoMapeamentoDireto()\n",
        "    global x\n",
        "    x = \"\\nAcertos para a Thread 1 (Direto): {} \".format(a) + \" --> Porcentagem: \" + str((a/enderecos)*100) + \"%\\nErros para a Thread 1: {} \".format(enderecos - a) + \" --> Porcentagem: \" + str(((enderecos - a)/enderecos)*100) + \"%\\n\"\n",
        "  \n",
        "def task2():\n",
        "    print(\"\\nIniciando Thread {}\".format(threading.current_thread().name))\n",
        "    a = SimulacaoMapeamentoCompletamenteAssociativo()\n",
        "    global x1\n",
        "    x1 = \"\\nAcertos para a Thread 2 (Associativo): {} \".format(a) + \" --> Porcentagem: \" + str((a/enderecos)*100) + \"%\\nErros para a Thread 2: {} \".format(enderecos - a) + \" --> Porcentagem: \" + str(((enderecos - a)/enderecos)*100) + \"%\\n\"\n",
        "    \n",
        "def task3():\n",
        "    print(\"\\nIniciando Thread {}\".format(threading.current_thread().name))\n",
        "    a = SimulacaoMapeamentoAssociativo2_512()\n",
        "    global x2\n",
        "    x2 = \"\\nAcertos para a Thread 3 (2 vias - 512): {} \".format(a) + \" --> Porcentagem: \" + str((a/enderecos)*100) + \"%\\nErros para a Thread 3: {} \".format(enderecos - a) + \" --> Porcentagem: \" + str(((enderecos - a)/enderecos)*100) + \"%\\n\"\n",
        "    \n",
        "def task4():\n",
        "    print(\"\\nIniciando Thread {}\".format(threading.current_thread().name))\n",
        "    a = SimulacaoMapeamentoAssociativo4_256()\n",
        "    global x3\n",
        "    x3 = \"\\nAcertos para a Thread 4 (4 vias - 256): {} \".format(a) + \" --> Porcentagem: \" + str((a/enderecos)*100) + \"%\\nErros para a Thread 4: {} \".format(enderecos - a) + \" --> Porcentagem: \" + str(((enderecos - a)/enderecos)*100) + \"%\\n\"\n",
        "    \n",
        "def task5():\n",
        "    print(\"\\nIniciando Thread {}\".format(threading.current_thread().name))\n",
        "    a = SimulacaoMapeamentoAssociativo2_128()\n",
        "    global x4\n",
        "    x4 = \"\\nAcertos para a Thread 5 (2 vias - 128): {} \".format(a) + \" --> Porcentagem: \" + str((a/enderecos)*100) + \"%\\nErros para a Thread 5: {} \".format(enderecos - a) + \" --> Porcentagem: \" + str(((enderecos - a)/enderecos)*100) + \"%\\n\"\n",
        "   \n",
        "def task6():\n",
        "    print(\"\\nIniciando Thread {}\".format(threading.current_thread().name))\n",
        "    a = SimulacaoMapeamentoAssociativo4_512()\n",
        "    global x5\n",
        "    x5 = \"\\nAcertos para a Thread 6 (4 vias - 512): {} \".format(a) + \" --> Porcentagem: \" + str((a/enderecos)*100) + \"%\\nErros para a Thread 6: {} \".format(enderecos - a) + \" --> Porcentagem: \" + str(((enderecos - a)/enderecos)*100) + \"%\\n\"\n",
        "    \n",
        "\n",
        "def main_task():\n",
        "    global x, x1, x2, x3, x4, x5\n",
        "  # print name of main thread\n",
        "    print(\"Main thread name: {}\".format(threading.main_thread().name))\n",
        "  # creating threads\n",
        "    t1 = threading.Thread(target=task1, name='1')\n",
        "    t2 = threading.Thread(target=task2, name='2') \n",
        "    t3 = threading.Thread(target=task3, name='3') \n",
        "    t4 = threading.Thread(target=task4, name='4') \n",
        "    # extras (tests with 2 ways (128) and 4 ways (512))\n",
        "    t5 = threading.Thread(target=task5, name='5') \n",
        "    t6 = threading.Thread(target=task6, name='6') \n",
        "    # starting threads\n",
        "    t1.start()\n",
        "    t2.start()\n",
        "    t3.start()\n",
        "    t4.start()\n",
        "    t5.start()\n",
        "    t6.start()\n",
        "    # wait until all threads finish\n",
        "    t1.join()\n",
        "    t2.join()\n",
        "    t3.join()\n",
        "    t4.join()\n",
        "    t5.join()\n",
        "    t6.join()\n",
        "    # Results\n",
        "    print(x + x1 + x2 + x3 + \"\\n##########  Extras  ##########\" + x4 + x5)\n",
        "\n",
        "if __name__ == \"__main__\": \n",
        "    main_task()\n"
      ],
      "metadata": {
        "colab": {
          "base_uri": "https://localhost:8080/"
        },
        "id": "CqlhvwwFeQ5h",
        "outputId": "93defecd-9010-4cf5-c2f3-c47ddfc15bf3"
      },
      "execution_count": null,
      "outputs": [
        {
          "output_type": "stream",
          "name": "stdout",
          "text": [
            "Main thread name: MainThread\n",
            "\n",
            "Iniciando Thread 1\n",
            "\n",
            "Iniciando Thread 2\n",
            "\n",
            "Iniciando Thread 3\n",
            "\n",
            "Iniciando Thread 4\n",
            "\n",
            "Iniciando Thread 5\n",
            "\n",
            "Iniciando Thread 6\n",
            "\n",
            "Acertos para a Thread 1 (Direto): 4976  --> Porcentagem: 42.53354987605778%\n",
            "Erros para a Thread 1: 6723  --> Porcentagem: 57.46645012394222%\n",
            "\n",
            "Acertos para a Thread 2 (Associativo): 8774.0  --> Porcentagem: 74.99786306521925%\n",
            "Erros para a Thread 2: 2925.0  --> Porcentagem: 25.00213693478075%\n",
            "\n",
            "Acertos para a Thread 3 (2 vias - 512): 5627  --> Porcentagem: 48.09812804513206%\n",
            "Erros para a Thread 3: 6072  --> Porcentagem: 51.90187195486794%\n",
            "\n",
            "Acertos para a Thread 4 (4 vias - 256): 4702  --> Porcentagem: 40.19146935635524%\n",
            "Erros para a Thread 4: 6997  --> Porcentagem: 59.80853064364475%\n",
            "\n",
            "##########  Extras  ##########\n",
            "Acertos para a Thread 5 (2 vias - 128): 4033  --> Porcentagem: 34.47303188306693%\n",
            "Erros para a Thread 5: 7666  --> Porcentagem: 65.52696811693308%\n",
            "\n",
            "Acertos para a Thread 6 (4 vias - 512): 5665  --> Porcentagem: 48.42294213180614%\n",
            "Erros para a Thread 6: 6034  --> Porcentagem: 51.57705786819386%\n",
            "\n"
          ]
        }
      ]
    }
  ]
}